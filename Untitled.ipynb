{
 "cells": [
  {
   "cell_type": "code",
   "execution_count": 2,
   "id": "fa781db6-ea0a-4e70-9b83-ab326435ce50",
   "metadata": {},
   "outputs": [
    {
     "data": {
      "text/plain": [
       "'data-scientist'"
      ]
     },
     "execution_count": 2,
     "metadata": {},
     "output_type": "execute_result"
    }
   ],
   "source": [
    "\"-\".join(\"data scientist\".split())"
   ]
  },
  {
   "cell_type": "code",
   "execution_count": null,
   "id": "434fcbc1-5444-4093-8ad9-eed186c29e19",
   "metadata": {},
   "outputs": [],
   "source": []
  }
 ],
 "metadata": {
  "kernelspec": {
   "display_name": "Python 3 (ipykernel)",
   "language": "python",
   "name": "python3"
  },
  "language_info": {
   "codemirror_mode": {
    "name": "ipython",
    "version": 3
   },
   "file_extension": ".py",
   "mimetype": "text/x-python",
   "name": "python",
   "nbconvert_exporter": "python",
   "pygments_lexer": "ipython3",
   "version": "3.10.11"
  }
 },
 "nbformat": 4,
 "nbformat_minor": 5
}
