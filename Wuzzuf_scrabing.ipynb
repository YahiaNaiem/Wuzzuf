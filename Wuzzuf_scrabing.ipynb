{
 "cells": [
  {
   "cell_type": "markdown",
   "metadata": {
    "colab_type": "text",
    "id": "view-in-github"
   },
   "source": [
    "<a href=\"https://colab.research.google.com/github/YahiaNaiem/Wuzzuf/blob/main/Wuzzuf_scrabing.ipynb\" target=\"_parent\"><img src=\"https://colab.research.google.com/assets/colab-badge.svg\" alt=\"Open In Colab\"/></a>"
   ]
  },
  {
   "cell_type": "code",
   "execution_count": 57,
   "metadata": {
    "colab": {
     "base_uri": "https://localhost:8080/"
    },
    "id": "3wRIJyj0g7iI",
    "outputId": "0356738a-2928-4d6c-fee9-831a327c4e1f",
    "scrolled": true
   },
   "outputs": [],
   "source": [
    "#making the request to get the HTML for page of the wanted job and parsing it using BeautifulSoup\n",
    "response = requests.get(f\"https://wuzzuf.net/search/jobs/?a=hpb&q={job_search}&start=0\")\n",
    "soup = BeautifulSoup(response.text , \"html.parser\")  #to use in defining the needed values(Num_of_Jobs)\n",
    "\n",
    "#getting the number of jobs to loop on\n",
    "num_of_jobs_text = soup.find(\"strong\").get_text()\n",
    "Num_of_Jobs = int(num_of_jobs_text.replace(',', ''))\n",
    "\n",
    "def insert_skills(jobs_list):\n",
    "    for job_search in jobs_list:\n",
    "        jops_counter = 1\n",
    "        page_number = 0\n",
    "        skills_count = {}\n",
    "        while jops_counter <= Num_of_Jobs: #loop for the number of jobs in all pages\n",
    "            response = requests.get(f\"https://wuzzuf.net/search/jobs/?a=hpb&q={job_search}&start={page_number}\")\n",
    "            soup = BeautifulSoup(response.text, \"html.parser\")\n",
    "            page_jobs = soup.find_all(\"div\", attrs={\"class\": \"css-1gatmva e1v1l3u10\"})\n",
    "        \n",
    "            for job in page_jobs: #loop for jobs in each page\n",
    "                jops_counter += 1\n",
    "                skills_tags = job.find(\"div\", attrs={\"class\": \"css-y4udm8\"}).find_all(\"div\", attrs={})[1].find_all(\"a\", attrs={\"class\": \"css-5x9pm1\"})[0:4]\n",
    "        \n",
    "                try:\n",
    "                    skills_text = [skill.get_text().lstrip(' · ') for skill in skills_tags]\n",
    "                except:\n",
    "                    continue\n",
    "        \n",
    "        \n",
    "                # Update skills_count dictionary\n",
    "                for skill in skills_text:\n",
    "                    skills_count[skill.lower()] = skills_count.get(skill.lower(), 0) + 1\n",
    "        \n",
    "            page_number += 1\n",
    "            print(f\"{jops_counter - 1} jobs were scraped\")\n",
    "            print(f\"{page_number} pages were scraped\")\n",
    "        \n",
    "        sorted_skills = dict(sorted(skills_count.items(), key = lambda item: item[1], reverse = True))\n",
    "        reduced_dict = {key: value for key, value in sorted_skills.items() if value > 4}\n",
    "        insert_dict_into_sqlite(reduced_dict, conn, \"_\".join(job_search.split()))"
   ]
  },
  {
   "cell_type": "code",
   "execution_count": 58,
   "metadata": {},
   "outputs": [],
   "source": [
    "def create_tables(names_list):\n",
    "    for name in names_list:\n",
    "        query = f\"\"\"CREATE TABLE {name} (\n",
    "            skill TEXT,\n",
    "            count INT)\"\"\"\n",
    "        cursor.execute(query)"
   ]
  },
  {
   "cell_type": "code",
   "execution_count": 59,
   "metadata": {},
   "outputs": [],
   "source": [
    "def insert_dict_into_sqlite(data_dict, conn, table_name, key_col_name=\"skill\", value_col_name=\"count\"):\n",
    "\n",
    "  cursor = conn.cursor()\n",
    "\n",
    "  # Prepare the INSERT statement with placeholders\n",
    "  insert_stmt = f\"\"\"INSERT INTO {table_name} ({key_col_name}, {value_col_name}) VALUES (?, ?)\"\"\"\n",
    "\n",
    "  # Iterate through dictionary items and insert data\n",
    "  try:\n",
    "    for key, value in data_dict.items():\n",
    "      cursor.execute(insert_stmt, (key, value))\n",
    "    conn.commit()\n",
    "    print(\"Data inserted successfully!\")\n",
    "  except sqlite3.Error as e:\n",
    "    print(\"Error inserting data:\", e)"
   ]
  },
  {
   "cell_type": "code",
   "execution_count": 60,
   "metadata": {},
   "outputs": [],
   "source": [
    "def truncate_data():\n",
    "    cursor.execute(\"SELECT name FROM sqlite_master WHERE type='table';\")\n",
    "    tables = cursor.fetchall()\n",
    "    \n",
    "    # Iterate over each table and delete all rows\n",
    "    for table in tables:\n",
    "        table_name = table[0]\n",
    "        cursor.execute(f\"DELETE FROM {table_name};\")\n",
    "        print(f\"All data deleted from table: {table_name}\")\n",
    "    conn.commit()"
   ]
  },
  {
   "cell_type": "code",
   "execution_count": 61,
   "metadata": {},
   "outputs": [],
   "source": [
    "import csv\n",
    "import requests\n",
    "from bs4 import BeautifulSoup\n",
    "import sqlite3\n",
    "\n",
    "\n",
    "conn = sqlite3.connect('wuzzuf.db')\n",
    "cursor = conn.cursor()"
   ]
  },
  {
   "cell_type": "code",
   "execution_count": 62,
   "metadata": {},
   "outputs": [
    {
     "name": "stdout",
     "output_type": "stream",
     "text": [
      "All data deleted from table: sqlite_sequence\n",
      "All data deleted from table: web_development\n",
      "All data deleted from table: data_science\n",
      "All data deleted from table: data_analysis\n",
      "All data deleted from table: cyber_security\n"
     ]
    }
   ],
   "source": [
    "truncate_data()"
   ]
  },
  {
   "cell_type": "code",
   "execution_count": 64,
   "metadata": {},
   "outputs": [
    {
     "name": "stdout",
     "output_type": "stream",
     "text": [
      "15 jobs were scraped\n",
      "1 pages were scraped\n",
      "30 jobs were scraped\n",
      "2 pages were scraped\n",
      "45 jobs were scraped\n",
      "3 pages were scraped\n",
      "60 jobs were scraped\n",
      "4 pages were scraped\n",
      "75 jobs were scraped\n",
      "5 pages were scraped\n",
      "90 jobs were scraped\n",
      "6 pages were scraped\n",
      "105 jobs were scraped\n",
      "7 pages were scraped\n",
      "120 jobs were scraped\n",
      "8 pages were scraped\n",
      "Data inserted successfully!\n",
      "15 jobs were scraped\n",
      "1 pages were scraped\n",
      "30 jobs were scraped\n",
      "2 pages were scraped\n",
      "45 jobs were scraped\n",
      "3 pages were scraped\n",
      "60 jobs were scraped\n",
      "4 pages were scraped\n",
      "75 jobs were scraped\n",
      "5 pages were scraped\n",
      "90 jobs were scraped\n",
      "6 pages were scraped\n",
      "105 jobs were scraped\n",
      "7 pages were scraped\n",
      "120 jobs were scraped\n",
      "8 pages were scraped\n",
      "Data inserted successfully!\n",
      "15 jobs were scraped\n",
      "1 pages were scraped\n",
      "30 jobs were scraped\n",
      "2 pages were scraped\n",
      "45 jobs were scraped\n",
      "3 pages were scraped\n",
      "60 jobs were scraped\n",
      "4 pages were scraped\n",
      "75 jobs were scraped\n",
      "5 pages were scraped\n",
      "90 jobs were scraped\n",
      "6 pages were scraped\n",
      "105 jobs were scraped\n",
      "7 pages were scraped\n",
      "120 jobs were scraped\n",
      "8 pages were scraped\n",
      "Data inserted successfully!\n",
      "15 jobs were scraped\n",
      "1 pages were scraped\n",
      "30 jobs were scraped\n",
      "2 pages were scraped\n",
      "45 jobs were scraped\n",
      "3 pages were scraped\n",
      "60 jobs were scraped\n",
      "4 pages were scraped\n",
      "75 jobs were scraped\n",
      "5 pages were scraped\n",
      "90 jobs were scraped\n",
      "6 pages were scraped\n",
      "105 jobs were scraped\n",
      "7 pages were scraped\n",
      "118 jobs were scraped\n",
      "8 pages were scraped\n",
      "Data inserted successfully!\n"
     ]
    }
   ],
   "source": [
    "insert_skills([\"web development\", \"data science\", \"data analysis\", \"cyber security\"])"
   ]
  },
  {
   "cell_type": "code",
   "execution_count": null,
   "metadata": {},
   "outputs": [],
   "source": []
  }
 ],
 "metadata": {
  "colab": {
   "authorship_tag": "ABX9TyP9OhYM9AwLUZW7GvTJJlQk",
   "include_colab_link": true,
   "provenance": []
  },
  "kernelspec": {
   "display_name": "Python 3 (ipykernel)",
   "language": "python",
   "name": "python3"
  },
  "language_info": {
   "codemirror_mode": {
    "name": "ipython",
    "version": 3
   },
   "file_extension": ".py",
   "mimetype": "text/x-python",
   "name": "python",
   "nbconvert_exporter": "python",
   "pygments_lexer": "ipython3",
   "version": "3.10.11"
  }
 },
 "nbformat": 4,
 "nbformat_minor": 4
}
